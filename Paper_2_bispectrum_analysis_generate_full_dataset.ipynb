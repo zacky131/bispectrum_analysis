{
 "cells": [
  {
   "cell_type": "markdown",
   "id": "6a0b61e4",
   "metadata": {},
   "source": [
    "Muhammad Zacky Asy'ari <br>\n",
    "https://www.linkedin.com/in/muhammad-zacky-asyari/\n"
   ]
  },
  {
   "cell_type": "markdown",
   "id": "30635a97",
   "metadata": {},
   "source": [
    "Dataset is from:<br>\n",
    "https://catalog.data.gov/dataset/wind-turbine-gearbox-condition-monitoring-vibration-analysis-benchmarking-datasets <br>\n",
    "You may change the directory location depends on your computer"
   ]
  },
  {
   "cell_type": "markdown",
   "id": "9c4e92d3",
   "metadata": {},
   "source": [
    "Publication: <br>\n",
    "https://ieeexplore.ieee.org/abstract/document/10935342/"
   ]
  },
  {
   "cell_type": "code",
   "execution_count": 1,
   "id": "534faced",
   "metadata": {},
   "outputs": [],
   "source": [
    "import numpy as np\n",
    "import matplotlib.pyplot as plt\n",
    "from numpy.random import normal\n",
    "from numpy.random import uniform\n",
    "import time\n",
    "# to measure exec time\n",
    "from timeit import default_timer as timer"
   ]
  },
  {
   "cell_type": "markdown",
   "id": "c9489371",
   "metadata": {},
   "source": [
    "# Generate sample"
   ]
  },
  {
   "cell_type": "code",
   "execution_count": 2,
   "id": "b22a4645",
   "metadata": {},
   "outputs": [
    {
     "name": "stdout",
     "output_type": "stream",
     "text": [
      "Keys for healty data:  dict_keys(['__header__', '__version__', '__globals__', 'AN3', 'AN4', 'AN5', 'AN6', 'AN7', 'AN8', 'AN9', 'AN10', 'Speed'])\n"
     ]
    }
   ],
   "source": [
    "from scipy.io import loadmat\n",
    "\n",
    "health_path = 'D:/Documents/School/PhD/UI/PhD Research/Code and Dataset/Public dataset/Wind Turbine US Departement of Energy/Healthy/H5.mat'\n",
    "mat = loadmat(health_path)\n",
    "print(\"Keys for healty data: \", mat.keys()) #to see what key for data was called\n",
    "\n",
    "damage_path = 'D:/Documents/School/PhD/UI/PhD Research/Code and Dataset/Public dataset/Wind Turbine US Departement of Energy/Damaged/D5.mat'\n",
    "mat = loadmat(damage_path)"
   ]
  },
  {
   "cell_type": "markdown",
   "id": "72960787",
   "metadata": {},
   "source": [
    "# Generate one by one"
   ]
  },
  {
   "cell_type": "code",
   "execution_count": 3,
   "id": "2660cc17",
   "metadata": {},
   "outputs": [],
   "source": [
    "from stingray import lightcurve\n",
    "import numpy as np\n",
    "from stingray.bispectrum import Bispectrum\n",
    "import matplotlib.pyplot as plt\n",
    "from sklearn import preprocessing as pre\n",
    "import cv2\n",
    "import pandas as pd\n",
    "from numpy.random import normal\n",
    "from numpy.random import uniform\n",
    "# to measure exec time\n",
    "from timeit import default_timer as timer   \n",
    "%matplotlib inline \n",
    "\n",
    "\n",
    "def mat_to_dataframe(data_path='Damaged/D1.mat',col=None, data_start=None, data_end=None):\n",
    "    '''This code to convert matlab .mat data to pandas dataframe \n",
    "    data_path: path to file location \n",
    "    col      : key dictionary/column name at original file (put keys in list)\n",
    "    data size: amount of row to be generated on the dataframe'''\n",
    "    mat = loadmat(data_path)\n",
    "    values = []\n",
    "    for i in range(len(col)):\n",
    "        values.append(mat[col[i]][data_start:data_end].flatten()) \n",
    "    d = dict(zip(col, values))\n",
    "    df = pd.DataFrame.from_dict(d)\n",
    "    return df\n",
    "\n",
    "# Generate data frame for healty and damage dataset\n",
    "keys_healthy = ['AN3', 'AN4','AN5', 'AN6', 'AN7','AN8', 'AN9', 'AN10']\n",
    "keys_damage = ['AN3', 'AN4','AN5', 'AN6', 'AN7','AN8', 'AN9', 'AN10']\n",
    "\n",
    "health_path= 'Healthy/H1.mat'\n",
    "damage_path = 'Damaged/D1.mat'\n",
    "\n",
    "data_start = None\n",
    "data_end = None\n",
    "healthy = mat_to_dataframe(data_path=health_path,col=keys_healthy, data_start=data_start, data_end=data_end)\n",
    "damage = mat_to_dataframe(data_path=damage_path,col=keys_damage, data_start=data_start, data_end=data_end)"
   ]
  },
  {
   "cell_type": "markdown",
   "id": "2321dcd5",
   "metadata": {},
   "source": [
    "Function to crop image"
   ]
  },
  {
   "cell_type": "markdown",
   "id": "8f66c03e",
   "metadata": {},
   "source": [
    "[165:315, 200:350] equal to 150x150 px <br> [140:340, 180:380] equal to 200x200px"
   ]
  },
  {
   "cell_type": "code",
   "execution_count": null,
   "id": "0051a9a3",
   "metadata": {},
   "outputs": [],
   "source": [
    "img = cv2.imread('output_bispectrum/cropped_test/AN8_health0_ori.png')\n",
    "print(img.shape) # Print image shape\n",
    "cv2.imshow(\"original\", img)\n",
    "cropped_image = img[140:340, 180:380] # \n",
    "# Display cropped image\n",
    "#cv2.imshow(\"cropped\", cropped_image)            \n",
    "# Save the cropped image\n",
    "crop_result = cv2.imwrite('output_bispectrum/cropped_test/AN8_health0_ori_cropped.png', cropped_image)\n",
    "print(cropped_image.shape)\n",
    "cv2.destroyAllWindows()"
   ]
  },
  {
   "cell_type": "code",
   "execution_count": 4,
   "id": "369d836f",
   "metadata": {},
   "outputs": [],
   "source": [
    "def cropped_image(path=None):\n",
    "    img = cv2.imread(path.format(i))\n",
    "    # print(img.shape) # Print image shape\n",
    "    #cv2.imshow(\"original\", img)\n",
    "    cropped_image = img[140:340, 180:380]\n",
    "    # Display cropped image\n",
    "    #cv2.imshow(\"cropped\", cropped_image)            \n",
    "    # Save the cropped image\n",
    "    crop_result = cv2.imwrite(path.format(i), cropped_image)\n",
    "    cv2.destroyAllWindows()\n",
    "    return crop_result\n",
    "\n"
   ]
  },
  {
   "cell_type": "markdown",
   "id": "e907f1bc",
   "metadata": {},
   "source": [
    "# Sensor selection for health"
   ]
  },
  {
   "cell_type": "code",
   "execution_count": 16,
   "id": "c0c10b4c",
   "metadata": {},
   "outputs": [],
   "source": [
    "sensor_name = \"AN8\"\n",
    "path_file = \"output_bispectrum/Full_dataset/AN8_Health/AN8_health{0}.png\" # change sensor name according to your preferences"
   ]
  },
  {
   "cell_type": "code",
   "execution_count": 13,
   "id": "befcc4c3",
   "metadata": {},
   "outputs": [
    {
     "name": "stdout",
     "output_type": "stream",
     "text": [
      "2 number of samples had been generated\n",
      "last sample start time:  803000\n",
      "last sample end time:  804000\n"
     ]
    }
   ],
   "source": [
    "import time\n",
    "\n",
    "sample = 2\n",
    "data_start = 0\n",
    "data_end = 1000\n",
    "for i in range(sample):\n",
    "    healthy = mat_to_dataframe(data_path=health_path,col=keys_healthy, data_start=data_start, data_end=data_end)\n",
    "    #damage = mat_to_dataframe(data_path=damage_path,col=keys_damage, data_start=data_start, data_end=data_end)\n",
    "    counts = healthy[sensor_name].to_numpy()\n",
    "    # Variable that can be used for all variable\n",
    "    times = np.array(np.arange(0, len(healthy[sensor_name])))\n",
    "    array_health = healthy[sensor_name].to_numpy().reshape(-1, 1)\n",
    "    array_health_norm = pre.MinMaxScaler(feature_range=(-1, 1)).fit_transform(array_health)\n",
    "    lc_health = lightcurve.Lightcurve(times,array_health_norm)\n",
    "    bs_health = Bispectrum(lc_health)  \n",
    "\n",
    "    resolution = 100\n",
    "    cont = plt.contourf(bs_health.freq, bs_health.freq, bs_health.bispec_mag, resolution, cmap=plt.cm.Spectral_r)\n",
    "    plt.colorbar(cont)\n",
    "    plt.title(\"Bispectrum Magnitude sample_{0} to {1}\".format(data_start,data_end))\n",
    "    plt.xlabel(\"freq 1\")\n",
    "    plt.ylabel(\"freq 2\")\n",
    "    plt.savefig(path_file.format(i+1))\n",
    "    plt.close()\n",
    "    # Add function below if you want to crop directly\n",
    "    time.sleep(0.1)\n",
    "    cropped_image(path_file.format(i+1))\n",
    "\n",
    "    data_start += 1000\n",
    "    data_end += 1000\n",
    "\n",
    "print(\"{0} number of samples had been generated\".format(i+1))\n",
    "print(\"last sample start time: \", data_start)\n",
    "print(\"last sample end time: \", data_end)"
   ]
  },
  {
   "cell_type": "markdown",
   "id": "88b67be3",
   "metadata": {},
   "source": [
    "# Sensor selection for damage"
   ]
  },
  {
   "cell_type": "code",
   "execution_count": 16,
   "id": "9970a74f",
   "metadata": {},
   "outputs": [],
   "source": [
    "sensor_name = \"AN9\"\n",
    "path_file = \"output_bispectrum/Full_dataset/AN9_Damage/AN9_damage{0}.png\" # change sensor name according to your preferences"
   ]
  },
  {
   "cell_type": "code",
   "execution_count": 17,
   "id": "92411241",
   "metadata": {},
   "outputs": [
    {
     "name": "stdout",
     "output_type": "stream",
     "text": [
      "100 number of samples had been generated\n",
      "last sample start time:  100000\n",
      "last sample end time:  101000\n"
     ]
    }
   ],
   "source": [
    "import time\n",
    "\n",
    "sample = 100\n",
    "data_start = 0\n",
    "data_end = 1000\n",
    "for i in range(sample):\n",
    "    #healthy = mat_to_dataframe(data_path=health_path,col=keys_healthy, data_start=data_start, data_end=data_end)\n",
    "    damage = mat_to_dataframe(data_path=damage_path,col=keys_damage, data_start=data_start, data_end=data_end)\n",
    "    counts = damage[sensor_name].to_numpy()\n",
    "    # Variable that can be used for all variable\n",
    "    times = np.array(np.arange(0, len(damage[sensor_name])))\n",
    "    array_damage = damage[sensor_name].to_numpy().reshape(-1, 1)\n",
    "    array_damage_norm = pre.MinMaxScaler(feature_range=(-1, 1)).fit_transform(array_damage)\n",
    "    lc_damage = lightcurve.Lightcurve(times,array_damage_norm)\n",
    "    bs_damage = Bispectrum(lc_damage)  \n",
    "\n",
    "    resolution = 100\n",
    "    cont = plt.contourf(bs_damage.freq, bs_damage.freq, bs_damage.bispec_mag, resolution, cmap=plt.cm.Spectral_r)\n",
    "    plt.colorbar(cont)\n",
    "    plt.title(\"Bispectrum Magnitude sample_{0} to {1}\".format(data_start,data_end))\n",
    "    plt.xlabel(\"freq 1\")\n",
    "    plt.ylabel(\"freq 2\")\n",
    "    plt.savefig(path_file.format(i+1))\n",
    "    plt.close()\n",
    "    # Add function below if you want to crop directly\n",
    "    time.sleep(0.1)\n",
    "    cropped_image(path_file.format(i+1))\n",
    "\n",
    "    data_start += 1000\n",
    "    data_end += 1000\n",
    "\n",
    "print(\"{0} number of samples had been generated\".format(i+1))\n",
    "print(\"last sample start time: \", data_start)\n",
    "print(\"last sample end time: \", data_end)"
   ]
  }
 ],
 "metadata": {
  "kernelspec": {
   "display_name": "PhD_Simulation",
   "language": "python",
   "name": "python3"
  },
  "language_info": {
   "codemirror_mode": {
    "name": "ipython",
    "version": 3
   },
   "file_extension": ".py",
   "mimetype": "text/x-python",
   "name": "python",
   "nbconvert_exporter": "python",
   "pygments_lexer": "ipython3",
   "version": "3.11.4"
  }
 },
 "nbformat": 4,
 "nbformat_minor": 5
}
